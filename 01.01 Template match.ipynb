{
 "cells": [
  {
   "cell_type": "code",
   "execution_count": 1,
   "metadata": {},
   "outputs": [],
   "source": [
    "import cv2 as cv\n",
    "import numpy as np\n",
    "import math\n",
    "from matplotlib import pyplot as plt"
   ]
  },
  {
   "cell_type": "code",
   "execution_count": 42,
   "metadata": {},
   "outputs": [],
   "source": [
    "img_rgb = cv.imread(r\"D:\\07_Progs\\match_templ\\Plan2.jpg\")\n",
    "img_gray = cv.cvtColor(img_rgb, cv.COLOR_BGR2GRAY)\n",
    "template = cv.imread(r'D:\\07_Progs\\match_templ\\sound.png',0)\n",
    "mask = cv.imread(r'D:\\07_Progs\\match_templ\\mask_snd.png',0)\n",
    "w, h = template.shape[::-1]\n",
    "\n",
    "template_list = [template]\n",
    "mask_list = [mask]\n",
    "for i in range(4):\n",
    "    template = cv.rotate(template, cv.ROTATE_90_COUNTERCLOCKWISE)\n",
    "    mask = cv. rotate (mask, cv.ROTATE_90_COUNTERCLOCKWISE)\n",
    "    template_list.append(template)\n",
    "    mask_list.append(mask)\n"
   ]
  },
  {
   "cell_type": "code",
   "execution_count": 44,
   "metadata": {},
   "outputs": [],
   "source": [
    "res = []\n",
    "loc = []\n",
    "threshold = 0.7\n",
    "for i in range(4):\n",
    "    res.append(cv.matchTemplate(img_gray,template_list[i],cv.TM_CCOEFF_NORMED, mask_list[i]))\n",
    "    loc.append(np.where(res[i] >= threshold))\n",
    "\n",
    "\n",
    "\n",
    "\n"
   ]
  },
  {
   "cell_type": "code",
   "execution_count": 41,
   "metadata": {},
   "outputs": [],
   "source": []
  },
  {
   "cell_type": "code",
   "execution_count": 46,
   "metadata": {},
   "outputs": [],
   "source": [
    "for i in range(4):   \n",
    "    for pt in zip(*loc[i][::-1]):\n",
    "        cv.rectangle(img_rgb, pt, (pt[0] + w, pt[1] + h), (0,255,0), 2)\n"
   ]
  },
  {
   "cell_type": "code",
   "execution_count": 38,
   "metadata": {},
   "outputs": [
    {
     "name": "stdout",
     "output_type": "stream",
     "text": [
      "37\n"
     ]
    }
   ],
   "source": [
    "pts = []\n",
    "for i in range(4)\n",
    "    pts.append(list(zip(*loc[::-1])))\n",
    "print(len(pts))"
   ]
  },
  {
   "cell_type": "code",
   "execution_count": 39,
   "metadata": {},
   "outputs": [
    {
     "name": "stdout",
     "output_type": "stream",
     "text": [
      "5\n"
     ]
    }
   ],
   "source": [
    "pts = list(zip(*loc[::-1]))\n",
    "i = 0\n",
    "while i < len(pts):\n",
    "    i1 = i + 1\n",
    "    while i1 < len(pts) :\n",
    "        if (abs(pts[i1][0]-pts[i][0])<=w) and (abs(pts[i1][1]-pts[i][1])<=h):\n",
    "            del(pts[i1])\n",
    "        else :       \n",
    "            i1+=1\n",
    "    i+=1\n",
    "    \n",
    "print(len(pts))   \n",
    "            "
   ]
  },
  {
   "cell_type": "code",
   "execution_count": 37,
   "metadata": {},
   "outputs": [
    {
     "name": "stdout",
     "output_type": "stream",
     "text": [
      "[(4476, 1148), (4917, 1175), (5182, 1175), (3356, 1181), (3730, 1181), (4104, 1181), (4599, 1323), (4760, 1365), (3173, 1374), (3356, 1447), (3730, 1448), (4104, 1448), (4599, 1485), (4917, 1491), (5183, 1491), (4760, 1526), (3033, 1552), (3450, 1723), (2833, 1753), (4917, 1806), (5183, 1806), (3114, 1871), (3450, 1989), (2751, 2005), (4917, 2122), (5183, 2122), (3441, 2251), (2711, 2268), (3085, 2268), (4917, 2438), (5183, 2438), (3441, 2497), (2711, 2535), (3085, 2535), (4917, 2753), (5183, 2753), (2711, 2801), (3085, 2801), (3459, 2801), (3833, 2801), (4207, 2801), (4581, 2801), (4782, 2872), (2282, 2890), (2120, 2916), (2282, 3001), (2710, 3067), (3084, 3067), (3458, 3067), (3833, 3067), (4207, 3067), (4581, 3067), (4781, 3067), (4917, 3069), (5183, 3069), (2046, 3072), (2418, 3132)]\n"
     ]
    }
   ],
   "source": [
    "print (pts)"
   ]
  },
  {
   "cell_type": "code",
   "execution_count": 47,
   "metadata": {},
   "outputs": [
    {
     "data": {
      "text/plain": [
       "True"
      ]
     },
     "execution_count": 47,
     "metadata": {},
     "output_type": "execute_result"
    }
   ],
   "source": [
    "cv.imwrite('res.png',img_rgb)"
   ]
  }
 ],
 "metadata": {
  "kernelspec": {
   "display_name": "Python 3",
   "language": "python",
   "name": "python3"
  },
  "language_info": {
   "codemirror_mode": {
    "name": "ipython",
    "version": 3
   },
   "file_extension": ".py",
   "mimetype": "text/x-python",
   "name": "python",
   "nbconvert_exporter": "python",
   "pygments_lexer": "ipython3",
   "version": "3.6.5"
  }
 },
 "nbformat": 4,
 "nbformat_minor": 2
}
